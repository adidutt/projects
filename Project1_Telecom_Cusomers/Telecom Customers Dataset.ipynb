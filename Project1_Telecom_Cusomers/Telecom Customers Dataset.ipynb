{
 "cells": [
  {
   "cell_type": "code",
   "execution_count": 1,
   "id": "greenhouse-explosion",
   "metadata": {},
   "outputs": [],
   "source": [
    "import pandas as pd\n",
    "import numpy as np\n",
    "\n",
    "# Plotting Libraries\n",
    "import matplotlib.pyplot as plt1\n",
    "import pylab as plt\n",
    "%matplotlib inline\n",
    "import matplotlib.pyplot as plt\n",
    "import seaborn as sns\n",
    "from scipy.stats import norm\n",
    "from sklearn.preprocessing import LabelEncoder"
   ]
  },
  {
   "cell_type": "code",
   "execution_count": 2,
   "id": "technological-yield",
   "metadata": {},
   "outputs": [
    {
     "data": {
      "text/html": [
       "<div>\n",
       "<style scoped>\n",
       "    .dataframe tbody tr th:only-of-type {\n",
       "        vertical-align: middle;\n",
       "    }\n",
       "\n",
       "    .dataframe tbody tr th {\n",
       "        vertical-align: top;\n",
       "    }\n",
       "\n",
       "    .dataframe thead th {\n",
       "        text-align: right;\n",
       "    }\n",
       "</style>\n",
       "<table border=\"1\" class=\"dataframe\">\n",
       "  <thead>\n",
       "    <tr style=\"text-align: right;\">\n",
       "      <th></th>\n",
       "      <th>region</th>\n",
       "      <th>tenure</th>\n",
       "      <th>age</th>\n",
       "      <th>income</th>\n",
       "      <th>marital</th>\n",
       "      <th>address zone</th>\n",
       "      <th>ed</th>\n",
       "      <th>employ</th>\n",
       "      <th>retire</th>\n",
       "      <th>gender</th>\n",
       "      <th>reside</th>\n",
       "      <th>custcat</th>\n",
       "    </tr>\n",
       "  </thead>\n",
       "  <tbody>\n",
       "    <tr>\n",
       "      <th>0</th>\n",
       "      <td>2.0</td>\n",
       "      <td>13</td>\n",
       "      <td>44.0</td>\n",
       "      <td>64.0</td>\n",
       "      <td>Married</td>\n",
       "      <td>Zone 9</td>\n",
       "      <td>4.0</td>\n",
       "      <td>5</td>\n",
       "      <td>No</td>\n",
       "      <td>Male</td>\n",
       "      <td>2.0</td>\n",
       "      <td>A</td>\n",
       "    </tr>\n",
       "    <tr>\n",
       "      <th>1</th>\n",
       "      <td>3.0</td>\n",
       "      <td>11</td>\n",
       "      <td>33.0</td>\n",
       "      <td>136.0</td>\n",
       "      <td>Married</td>\n",
       "      <td>Zone 7</td>\n",
       "      <td>5.0</td>\n",
       "      <td>5</td>\n",
       "      <td>No</td>\n",
       "      <td>Male</td>\n",
       "      <td>6.0</td>\n",
       "      <td>D</td>\n",
       "    </tr>\n",
       "    <tr>\n",
       "      <th>2</th>\n",
       "      <td>3.0</td>\n",
       "      <td>68</td>\n",
       "      <td>52.0</td>\n",
       "      <td>116.0</td>\n",
       "      <td>Married</td>\n",
       "      <td>Zone 24</td>\n",
       "      <td>1.0</td>\n",
       "      <td>29</td>\n",
       "      <td>No</td>\n",
       "      <td>Female</td>\n",
       "      <td>2.0</td>\n",
       "      <td>C</td>\n",
       "    </tr>\n",
       "    <tr>\n",
       "      <th>3</th>\n",
       "      <td>2.0</td>\n",
       "      <td>33</td>\n",
       "      <td>33.0</td>\n",
       "      <td>33.0</td>\n",
       "      <td>Single</td>\n",
       "      <td>Zone 12</td>\n",
       "      <td>2.0</td>\n",
       "      <td>0</td>\n",
       "      <td>No</td>\n",
       "      <td>Female</td>\n",
       "      <td>1.0</td>\n",
       "      <td>A</td>\n",
       "    </tr>\n",
       "    <tr>\n",
       "      <th>4</th>\n",
       "      <td>2.0</td>\n",
       "      <td>23</td>\n",
       "      <td>30.0</td>\n",
       "      <td>30.0</td>\n",
       "      <td>Married</td>\n",
       "      <td>Zone 9</td>\n",
       "      <td>1.0</td>\n",
       "      <td>2</td>\n",
       "      <td>No</td>\n",
       "      <td>Male</td>\n",
       "      <td>4.0</td>\n",
       "      <td>C</td>\n",
       "    </tr>\n",
       "    <tr>\n",
       "      <th>...</th>\n",
       "      <td>...</td>\n",
       "      <td>...</td>\n",
       "      <td>...</td>\n",
       "      <td>...</td>\n",
       "      <td>...</td>\n",
       "      <td>...</td>\n",
       "      <td>...</td>\n",
       "      <td>...</td>\n",
       "      <td>...</td>\n",
       "      <td>...</td>\n",
       "      <td>...</td>\n",
       "      <td>...</td>\n",
       "    </tr>\n",
       "    <tr>\n",
       "      <th>995</th>\n",
       "      <td>3.0</td>\n",
       "      <td>10</td>\n",
       "      <td>39.0</td>\n",
       "      <td>27.0</td>\n",
       "      <td>Single</td>\n",
       "      <td>Zone 0</td>\n",
       "      <td>3.0</td>\n",
       "      <td>0</td>\n",
       "      <td>No</td>\n",
       "      <td>Female</td>\n",
       "      <td>3.0</td>\n",
       "      <td>A</td>\n",
       "    </tr>\n",
       "    <tr>\n",
       "      <th>996</th>\n",
       "      <td>1.0</td>\n",
       "      <td>7</td>\n",
       "      <td>34.0</td>\n",
       "      <td>22.0</td>\n",
       "      <td>Single</td>\n",
       "      <td>Zone 2</td>\n",
       "      <td>5.0</td>\n",
       "      <td>5</td>\n",
       "      <td>No</td>\n",
       "      <td>Female</td>\n",
       "      <td>1.0</td>\n",
       "      <td>A</td>\n",
       "    </tr>\n",
       "    <tr>\n",
       "      <th>997</th>\n",
       "      <td>3.0</td>\n",
       "      <td>67</td>\n",
       "      <td>59.0</td>\n",
       "      <td>944.0</td>\n",
       "      <td>Single</td>\n",
       "      <td>Zone 40</td>\n",
       "      <td>5.0</td>\n",
       "      <td>33</td>\n",
       "      <td>No</td>\n",
       "      <td>Female</td>\n",
       "      <td>1.0</td>\n",
       "      <td>D</td>\n",
       "    </tr>\n",
       "    <tr>\n",
       "      <th>998</th>\n",
       "      <td>3.0</td>\n",
       "      <td>70</td>\n",
       "      <td>49.0</td>\n",
       "      <td>87.0</td>\n",
       "      <td>Single</td>\n",
       "      <td>Zone 18</td>\n",
       "      <td>2.0</td>\n",
       "      <td>22</td>\n",
       "      <td>No</td>\n",
       "      <td>Female</td>\n",
       "      <td>1.0</td>\n",
       "      <td>C</td>\n",
       "    </tr>\n",
       "    <tr>\n",
       "      <th>999</th>\n",
       "      <td>3.0</td>\n",
       "      <td>50</td>\n",
       "      <td>36.0</td>\n",
       "      <td>39.0</td>\n",
       "      <td>Married</td>\n",
       "      <td>Zone 7</td>\n",
       "      <td>3.0</td>\n",
       "      <td>3</td>\n",
       "      <td>No</td>\n",
       "      <td>Female</td>\n",
       "      <td>3.0</td>\n",
       "      <td>B</td>\n",
       "    </tr>\n",
       "  </tbody>\n",
       "</table>\n",
       "<p>1000 rows × 12 columns</p>\n",
       "</div>"
      ],
      "text/plain": [
       "     region  tenure   age  income  marital address zone   ed  employ retire  \\\n",
       "0       2.0      13  44.0    64.0  Married       Zone 9  4.0       5     No   \n",
       "1       3.0      11  33.0   136.0  Married       Zone 7  5.0       5     No   \n",
       "2       3.0      68  52.0   116.0  Married      Zone 24  1.0      29     No   \n",
       "3       2.0      33  33.0    33.0   Single      Zone 12  2.0       0     No   \n",
       "4       2.0      23  30.0    30.0  Married       Zone 9  1.0       2     No   \n",
       "..      ...     ...   ...     ...      ...          ...  ...     ...    ...   \n",
       "995     3.0      10  39.0    27.0   Single       Zone 0  3.0       0     No   \n",
       "996     1.0       7  34.0    22.0   Single       Zone 2  5.0       5     No   \n",
       "997     3.0      67  59.0   944.0   Single      Zone 40  5.0      33     No   \n",
       "998     3.0      70  49.0    87.0   Single      Zone 18  2.0      22     No   \n",
       "999     3.0      50  36.0    39.0  Married       Zone 7  3.0       3     No   \n",
       "\n",
       "     gender  reside custcat  \n",
       "0      Male     2.0       A  \n",
       "1      Male     6.0       D  \n",
       "2    Female     2.0       C  \n",
       "3    Female     1.0       A  \n",
       "4      Male     4.0       C  \n",
       "..      ...     ...     ...  \n",
       "995  Female     3.0       A  \n",
       "996  Female     1.0       A  \n",
       "997  Female     1.0       D  \n",
       "998  Female     1.0       C  \n",
       "999  Female     3.0       B  \n",
       "\n",
       "[1000 rows x 12 columns]"
      ]
     },
     "execution_count": 2,
     "metadata": {},
     "output_type": "execute_result"
    }
   ],
   "source": [
    "df1_telecom = pd.read_csv('telecom_costumers.csv')\n",
    "df1_telecom"
   ]
  },
  {
   "cell_type": "code",
   "execution_count": 3,
   "id": "binary-people",
   "metadata": {},
   "outputs": [
    {
     "name": "stdout",
     "output_type": "stream",
     "text": [
      "<class 'pandas.core.frame.DataFrame'>\n",
      "RangeIndex: 1000 entries, 0 to 999\n",
      "Data columns (total 12 columns):\n",
      " #   Column        Non-Null Count  Dtype  \n",
      "---  ------        --------------  -----  \n",
      " 0   region        969 non-null    float64\n",
      " 1   tenure        1000 non-null   int64  \n",
      " 2   age           983 non-null    float64\n",
      " 3   income        976 non-null    float64\n",
      " 4   marital       1000 non-null   object \n",
      " 5   address zone  1000 non-null   object \n",
      " 6   ed            977 non-null    float64\n",
      " 7   employ        1000 non-null   int64  \n",
      " 8   retire        966 non-null    object \n",
      " 9   gender        1000 non-null   object \n",
      " 10  reside        969 non-null    float64\n",
      " 11  custcat       1000 non-null   object \n",
      "dtypes: float64(5), int64(2), object(5)\n",
      "memory usage: 93.9+ KB\n"
     ]
    }
   ],
   "source": [
    "df1_telecom.info()"
   ]
  },
  {
   "cell_type": "markdown",
   "id": "wrong-monitor",
   "metadata": {},
   "source": [
    "From above we can see that there are total 1000 rows and 12 columns in the dataset."
   ]
  },
  {
   "cell_type": "code",
   "execution_count": 4,
   "id": "deadly-importance",
   "metadata": {},
   "outputs": [
    {
     "data": {
      "text/html": [
       "<div>\n",
       "<style scoped>\n",
       "    .dataframe tbody tr th:only-of-type {\n",
       "        vertical-align: middle;\n",
       "    }\n",
       "\n",
       "    .dataframe tbody tr th {\n",
       "        vertical-align: top;\n",
       "    }\n",
       "\n",
       "    .dataframe thead th {\n",
       "        text-align: right;\n",
       "    }\n",
       "</style>\n",
       "<table border=\"1\" class=\"dataframe\">\n",
       "  <thead>\n",
       "    <tr style=\"text-align: right;\">\n",
       "      <th></th>\n",
       "      <th>region</th>\n",
       "      <th>tenure</th>\n",
       "      <th>age</th>\n",
       "      <th>income</th>\n",
       "      <th>ed</th>\n",
       "      <th>employ</th>\n",
       "      <th>reside</th>\n",
       "    </tr>\n",
       "  </thead>\n",
       "  <tbody>\n",
       "    <tr>\n",
       "      <th>count</th>\n",
       "      <td>969.000000</td>\n",
       "      <td>1000.000000</td>\n",
       "      <td>983.000000</td>\n",
       "      <td>976.000000</td>\n",
       "      <td>977.000000</td>\n",
       "      <td>1000.000000</td>\n",
       "      <td>969.000000</td>\n",
       "    </tr>\n",
       "    <tr>\n",
       "      <th>mean</th>\n",
       "      <td>2.027864</td>\n",
       "      <td>90.361000</td>\n",
       "      <td>41.623601</td>\n",
       "      <td>76.252049</td>\n",
       "      <td>2.670420</td>\n",
       "      <td>10.987000</td>\n",
       "      <td>2.324045</td>\n",
       "    </tr>\n",
       "    <tr>\n",
       "      <th>std</th>\n",
       "      <td>0.818338</td>\n",
       "      <td>224.474202</td>\n",
       "      <td>12.534544</td>\n",
       "      <td>103.897820</td>\n",
       "      <td>1.223018</td>\n",
       "      <td>10.082087</td>\n",
       "      <td>1.430284</td>\n",
       "    </tr>\n",
       "    <tr>\n",
       "      <th>min</th>\n",
       "      <td>1.000000</td>\n",
       "      <td>1.000000</td>\n",
       "      <td>18.000000</td>\n",
       "      <td>9.000000</td>\n",
       "      <td>1.000000</td>\n",
       "      <td>0.000000</td>\n",
       "      <td>1.000000</td>\n",
       "    </tr>\n",
       "    <tr>\n",
       "      <th>25%</th>\n",
       "      <td>1.000000</td>\n",
       "      <td>17.750000</td>\n",
       "      <td>32.000000</td>\n",
       "      <td>29.000000</td>\n",
       "      <td>2.000000</td>\n",
       "      <td>3.000000</td>\n",
       "      <td>1.000000</td>\n",
       "    </tr>\n",
       "    <tr>\n",
       "      <th>50%</th>\n",
       "      <td>2.000000</td>\n",
       "      <td>36.000000</td>\n",
       "      <td>40.000000</td>\n",
       "      <td>47.000000</td>\n",
       "      <td>3.000000</td>\n",
       "      <td>8.000000</td>\n",
       "      <td>2.000000</td>\n",
       "    </tr>\n",
       "    <tr>\n",
       "      <th>75%</th>\n",
       "      <td>3.000000</td>\n",
       "      <td>58.000000</td>\n",
       "      <td>51.000000</td>\n",
       "      <td>83.000000</td>\n",
       "      <td>4.000000</td>\n",
       "      <td>17.000000</td>\n",
       "      <td>3.000000</td>\n",
       "    </tr>\n",
       "    <tr>\n",
       "      <th>max</th>\n",
       "      <td>3.000000</td>\n",
       "      <td>999.000000</td>\n",
       "      <td>77.000000</td>\n",
       "      <td>1668.000000</td>\n",
       "      <td>5.000000</td>\n",
       "      <td>47.000000</td>\n",
       "      <td>8.000000</td>\n",
       "    </tr>\n",
       "  </tbody>\n",
       "</table>\n",
       "</div>"
      ],
      "text/plain": [
       "           region       tenure         age       income          ed  \\\n",
       "count  969.000000  1000.000000  983.000000   976.000000  977.000000   \n",
       "mean     2.027864    90.361000   41.623601    76.252049    2.670420   \n",
       "std      0.818338   224.474202   12.534544   103.897820    1.223018   \n",
       "min      1.000000     1.000000   18.000000     9.000000    1.000000   \n",
       "25%      1.000000    17.750000   32.000000    29.000000    2.000000   \n",
       "50%      2.000000    36.000000   40.000000    47.000000    3.000000   \n",
       "75%      3.000000    58.000000   51.000000    83.000000    4.000000   \n",
       "max      3.000000   999.000000   77.000000  1668.000000    5.000000   \n",
       "\n",
       "            employ      reside  \n",
       "count  1000.000000  969.000000  \n",
       "mean     10.987000    2.324045  \n",
       "std      10.082087    1.430284  \n",
       "min       0.000000    1.000000  \n",
       "25%       3.000000    1.000000  \n",
       "50%       8.000000    2.000000  \n",
       "75%      17.000000    3.000000  \n",
       "max      47.000000    8.000000  "
      ]
     },
     "execution_count": 4,
     "metadata": {},
     "output_type": "execute_result"
    }
   ],
   "source": [
    "df1_telecom.describe()"
   ]
  },
  {
   "cell_type": "markdown",
   "id": "dangerous-canvas",
   "metadata": {},
   "source": [
    "From above we see the descriptive statistics of all the numeric features."
   ]
  },
  {
   "cell_type": "markdown",
   "id": "invalid-office",
   "metadata": {},
   "source": [
    "Now we will find if there are any null values or any sentinal values present in the dataset. If we find any sentinal values, we can replace them with np.nan in that case."
   ]
  },
  {
   "cell_type": "markdown",
   "id": "organized-moderator",
   "metadata": {},
   "source": [
    "### Checking null values in the dataset"
   ]
  },
  {
   "cell_type": "code",
   "execution_count": 5,
   "id": "illegal-plymouth",
   "metadata": {},
   "outputs": [
    {
     "data": {
      "text/plain": [
       "region          31\n",
       "tenure           0\n",
       "age             17\n",
       "income          24\n",
       "marital          0\n",
       "address zone     0\n",
       "ed              23\n",
       "employ           0\n",
       "retire          34\n",
       "gender           0\n",
       "reside          31\n",
       "custcat          0\n",
       "dtype: int64"
      ]
     },
     "execution_count": 5,
     "metadata": {},
     "output_type": "execute_result"
    }
   ],
   "source": [
    "df1_telecom.isnull().sum()"
   ]
  },
  {
   "cell_type": "markdown",
   "id": "speaking-extreme",
   "metadata": {},
   "source": [
    "Thus we see here that there are null values present in columns, region, age, income, ed, retire and reside."
   ]
  },
  {
   "cell_type": "markdown",
   "id": "homeless-diploma",
   "metadata": {},
   "source": [
    "### Checking Unique values in all the columns"
   ]
  },
  {
   "cell_type": "code",
   "execution_count": 6,
   "id": "gothic-windsor",
   "metadata": {},
   "outputs": [],
   "source": [
    "def check_unique_vals(dataset):\n",
    "    cols_dict = {}\n",
    "    for col in dataset.columns:\n",
    "        cols_dict[col] = list(dataset[col].unique())\n",
    "    return cols_dict"
   ]
  },
  {
   "cell_type": "code",
   "execution_count": 7,
   "id": "unlimited-protocol",
   "metadata": {
    "scrolled": false
   },
   "outputs": [
    {
     "data": {
      "text/plain": [
       "{'region': [2.0, 3.0, 1.0, nan],\n",
       " 'tenure': [13,\n",
       "  11,\n",
       "  68,\n",
       "  33,\n",
       "  23,\n",
       "  41,\n",
       "  45,\n",
       "  38,\n",
       "  999,\n",
       "  5,\n",
       "  7,\n",
       "  57,\n",
       "  9,\n",
       "  29,\n",
       "  60,\n",
       "  34,\n",
       "  1,\n",
       "  26,\n",
       "  53,\n",
       "  55,\n",
       "  14,\n",
       "  42,\n",
       "  25,\n",
       "  56,\n",
       "  71,\n",
       "  35,\n",
       "  20,\n",
       "  54,\n",
       "  44,\n",
       "  72,\n",
       "  10,\n",
       "  15,\n",
       "  27,\n",
       "  64,\n",
       "  65,\n",
       "  49,\n",
       "  47,\n",
       "  30,\n",
       "  52,\n",
       "  36,\n",
       "  58,\n",
       "  69,\n",
       "  28,\n",
       "  16,\n",
       "  3,\n",
       "  48,\n",
       "  8,\n",
       "  40,\n",
       "  67,\n",
       "  2,\n",
       "  31,\n",
       "  62,\n",
       "  4,\n",
       "  17,\n",
       "  43,\n",
       "  12,\n",
       "  61,\n",
       "  59,\n",
       "  51,\n",
       "  19,\n",
       "  22,\n",
       "  70,\n",
       "  50,\n",
       "  6,\n",
       "  46,\n",
       "  39,\n",
       "  24,\n",
       "  21,\n",
       "  18,\n",
       "  63,\n",
       "  37,\n",
       "  66,\n",
       "  32],\n",
       " 'age': [44.0,\n",
       "  33.0,\n",
       "  52.0,\n",
       "  30.0,\n",
       "  39.0,\n",
       "  22.0,\n",
       "  35.0,\n",
       "  59.0,\n",
       "  nan,\n",
       "  38.0,\n",
       "  54.0,\n",
       "  46.0,\n",
       "  57.0,\n",
       "  48.0,\n",
       "  24.0,\n",
       "  29.0,\n",
       "  43.0,\n",
       "  21.0,\n",
       "  37.0,\n",
       "  53.0,\n",
       "  50.0,\n",
       "  27.0,\n",
       "  60.0,\n",
       "  41.0,\n",
       "  28.0,\n",
       "  36.0,\n",
       "  51.0,\n",
       "  34.0,\n",
       "  26.0,\n",
       "  45.0,\n",
       "  62.0,\n",
       "  40.0,\n",
       "  55.0,\n",
       "  47.0,\n",
       "  67.0,\n",
       "  42.0,\n",
       "  71.0,\n",
       "  68.0,\n",
       "  31.0,\n",
       "  61.0,\n",
       "  20.0,\n",
       "  25.0,\n",
       "  58.0,\n",
       "  32.0,\n",
       "  23.0,\n",
       "  64.0,\n",
       "  56.0,\n",
       "  63.0,\n",
       "  69.0,\n",
       "  65.0,\n",
       "  66.0,\n",
       "  19.0,\n",
       "  76.0,\n",
       "  70.0,\n",
       "  49.0,\n",
       "  75.0,\n",
       "  72.0,\n",
       "  74.0,\n",
       "  77.0,\n",
       "  18.0,\n",
       "  73.0],\n",
       " 'income': [64.0,\n",
       "  136.0,\n",
       "  116.0,\n",
       "  33.0,\n",
       "  30.0,\n",
       "  78.0,\n",
       "  19.0,\n",
       "  76.0,\n",
       "  166.0,\n",
       "  72.0,\n",
       "  125.0,\n",
       "  80.0,\n",
       "  37.0,\n",
       "  115.0,\n",
       "  25.0,\n",
       "  75.0,\n",
       "  162.0,\n",
       "  49.0,\n",
       "  20.0,\n",
       "  77.0,\n",
       "  16.0,\n",
       "  120.0,\n",
       "  101.0,\n",
       "  67.0,\n",
       "  36.0,\n",
       "  31.0,\n",
       "  17.0,\n",
       "  155.0,\n",
       "  140.0,\n",
       "  55.0,\n",
       "  163.0,\n",
       "  52.0,\n",
       "  211.0,\n",
       "  186.0,\n",
       "  39.0,\n",
       "  22.0,\n",
       "  29.0,\n",
       "  23.0,\n",
       "  62.0,\n",
       "  74.0,\n",
       "  63.0,\n",
       "  27.0,\n",
       "  24.0,\n",
       "  26.0,\n",
       "  47.0,\n",
       "  94.0,\n",
       "  21.0,\n",
       "  127.0,\n",
       "  137.0,\n",
       "  438.0,\n",
       "  79.0,\n",
       "  40.0,\n",
       "  51.0,\n",
       "  61.0,\n",
       "  44.0,\n",
       "  110.0,\n",
       "  91.0,\n",
       "  46.0,\n",
       "  85.0,\n",
       "  10.0,\n",
       "  244.0,\n",
       "  83.0,\n",
       "  351.0,\n",
       "  169.0,\n",
       "  34.0,\n",
       "  50.0,\n",
       "  161.0,\n",
       "  212.0,\n",
       "  53.0,\n",
       "  nan,\n",
       "  107.0,\n",
       "  173.0,\n",
       "  41.0,\n",
       "  105.0,\n",
       "  102.0,\n",
       "  68.0,\n",
       "  48.0,\n",
       "  28.0,\n",
       "  131.0,\n",
       "  18.0,\n",
       "  38.0,\n",
       "  60.0,\n",
       "  13.0,\n",
       "  98.0,\n",
       "  195.0,\n",
       "  65.0,\n",
       "  150.0,\n",
       "  106.0,\n",
       "  96.0,\n",
       "  145.0,\n",
       "  99.0,\n",
       "  57.0,\n",
       "  56.0,\n",
       "  108.0,\n",
       "  242.0,\n",
       "  123.0,\n",
       "  81.0,\n",
       "  86.0,\n",
       "  59.0,\n",
       "  112.0,\n",
       "  168.0,\n",
       "  167.0,\n",
       "  104.0,\n",
       "  43.0,\n",
       "  32.0,\n",
       "  58.0,\n",
       "  95.0,\n",
       "  114.0,\n",
       "  128.0,\n",
       "  460.0,\n",
       "  224.0,\n",
       "  122.0,\n",
       "  191.0,\n",
       "  187.0,\n",
       "  119.0,\n",
       "  15.0,\n",
       "  674.0,\n",
       "  250.0,\n",
       "  200.0,\n",
       "  70.0,\n",
       "  172.0,\n",
       "  45.0,\n",
       "  54.0,\n",
       "  142.0,\n",
       "  42.0,\n",
       "  134.0,\n",
       "  82.0,\n",
       "  144.0,\n",
       "  35.0,\n",
       "  170.0,\n",
       "  318.0,\n",
       "  9.0,\n",
       "  14.0,\n",
       "  138.0,\n",
       "  359.0,\n",
       "  214.0,\n",
       "  88.0,\n",
       "  361.0,\n",
       "  93.0,\n",
       "  11.0,\n",
       "  181.0,\n",
       "  87.0,\n",
       "  117.0,\n",
       "  508.0,\n",
       "  222.0,\n",
       "  130.0,\n",
       "  264.0,\n",
       "  71.0,\n",
       "  69.0,\n",
       "  90.0,\n",
       "  12.0,\n",
       "  146.0,\n",
       "  1668.0,\n",
       "  262.0,\n",
       "  209.0,\n",
       "  66.0,\n",
       "  118.0,\n",
       "  323.0,\n",
       "  197.0,\n",
       "  273.0,\n",
       "  92.0,\n",
       "  207.0,\n",
       "  203.0,\n",
       "  380.0,\n",
       "  301.0,\n",
       "  271.0,\n",
       "  293.0,\n",
       "  189.0,\n",
       "  135.0,\n",
       "  97.0,\n",
       "  153.0,\n",
       "  341.0,\n",
       "  121.0,\n",
       "  245.0,\n",
       "  73.0,\n",
       "  456.0,\n",
       "  263.0,\n",
       "  296.0,\n",
       "  232.0,\n",
       "  237.0,\n",
       "  151.0,\n",
       "  171.0,\n",
       "  294.0,\n",
       "  205.0,\n",
       "  732.0,\n",
       "  100.0,\n",
       "  147.0,\n",
       "  228.0,\n",
       "  129.0,\n",
       "  311.0,\n",
       "  208.0,\n",
       "  89.0,\n",
       "  398.0,\n",
       "  84.0,\n",
       "  126.0,\n",
       "  591.0,\n",
       "  239.0,\n",
       "  248.0,\n",
       "  429.0,\n",
       "  608.0,\n",
       "  256.0,\n",
       "  587.0,\n",
       "  113.0,\n",
       "  198.0,\n",
       "  1131.0,\n",
       "  360.0,\n",
       "  159.0,\n",
       "  201.0,\n",
       "  418.0,\n",
       "  152.0,\n",
       "  333.0,\n",
       "  288.0,\n",
       "  269.0,\n",
       "  190.0,\n",
       "  944.0],\n",
       " 'marital': ['Married', 'Single', 'Unknown'],\n",
       " 'address zone': ['Zone 9',\n",
       "  'Zone 7',\n",
       "  'Zone 24',\n",
       "  'Zone 12',\n",
       "  'Zone 17',\n",
       "  'Zone 2',\n",
       "  'Zone 5',\n",
       "  'Zone 21',\n",
       "  'Zone 10',\n",
       "  'Zone 14',\n",
       "  'Zone 8',\n",
       "  'Zone 30',\n",
       "  'Zone 3',\n",
       "  'Zone 38',\n",
       "  'Zone 19',\n",
       "  'Zone 18',\n",
       "  'Zone 0',\n",
       "  'Zone 11',\n",
       "  'Zone 1',\n",
       "  'Zone 6',\n",
       "  'Zone 27',\n",
       "  'Zone 26',\n",
       "  'Zone 13',\n",
       "  'Zone 34',\n",
       "  'Zone 4',\n",
       "  'Zone 20',\n",
       "  'Zone 28',\n",
       "  'Zone 36',\n",
       "  'Zone 16',\n",
       "  'Zone 15',\n",
       "  'Zone 22',\n",
       "  'Zone 44',\n",
       "  'Zone 29',\n",
       "  'Zone 23',\n",
       "  'Zone 31',\n",
       "  'Zone 25',\n",
       "  'Zone 49',\n",
       "  'Zone 41',\n",
       "  'Zone 39',\n",
       "  'Zone 43',\n",
       "  'Zone 33',\n",
       "  'Zone 32',\n",
       "  'Zone 35',\n",
       "  'Zone 40',\n",
       "  'Zone 37',\n",
       "  'Zone 45',\n",
       "  'Zone 48',\n",
       "  'Zone 42',\n",
       "  'Zone 46',\n",
       "  'Zone 55'],\n",
       " 'ed': [4.0, 5.0, 1.0, 2.0, 3.0, nan],\n",
       " 'employ': [5,\n",
       "  29,\n",
       "  0,\n",
       "  2,\n",
       "  16,\n",
       "  4,\n",
       "  10,\n",
       "  31,\n",
       "  22,\n",
       "  15,\n",
       "  9,\n",
       "  23,\n",
       "  8,\n",
       "  1,\n",
       "  30,\n",
       "  6,\n",
       "  3,\n",
       "  24,\n",
       "  25,\n",
       "  13,\n",
       "  12,\n",
       "  21,\n",
       "  17,\n",
       "  35,\n",
       "  7,\n",
       "  20,\n",
       "  19,\n",
       "  18,\n",
       "  34,\n",
       "  11,\n",
       "  47,\n",
       "  14,\n",
       "  38,\n",
       "  28,\n",
       "  26,\n",
       "  41,\n",
       "  27,\n",
       "  44,\n",
       "  37,\n",
       "  33,\n",
       "  40,\n",
       "  32,\n",
       "  43,\n",
       "  36,\n",
       "  39,\n",
       "  45],\n",
       " 'retire': ['No', nan, 'Yes'],\n",
       " 'gender': ['Male', 'Female'],\n",
       " 'reside': [2.0, 6.0, 1.0, 4.0, 5.0, 3.0, nan, 7.0, 8.0],\n",
       " 'custcat': ['A', 'D', 'C', 'B']}"
      ]
     },
     "execution_count": 7,
     "metadata": {},
     "output_type": "execute_result"
    }
   ],
   "source": [
    "check_unique_vals(df1_telecom)"
   ]
  },
  {
   "cell_type": "markdown",
   "id": "dutch-bacon",
   "metadata": {},
   "source": [
    "From the above analysis we see that there are null values present in the dataset. Sentinal Values are also present in the dataset like in column Tenure value '999' is present and in column Marriage value 'Unknown' is present. We will now replace these values with np.nan. "
   ]
  },
  {
   "cell_type": "markdown",
   "id": "wanted-definition",
   "metadata": {},
   "source": [
    "### Replacing sentinal values with np.nan"
   ]
  },
  {
   "cell_type": "code",
   "execution_count": 8,
   "id": "french-interface",
   "metadata": {},
   "outputs": [],
   "source": [
    "df1_telecom = df1_telecom.fillna(value = np.nan)\n",
    "df1_telecom['tenure']=df1_telecom['tenure'].replace({999:np.nan})\n",
    "df1_telecom['marital']=df1_telecom['marital'].replace({'Unknown':np.nan})"
   ]
  },
  {
   "cell_type": "markdown",
   "id": "gentle-finance",
   "metadata": {},
   "source": [
    "We will check for the null values again"
   ]
  },
  {
   "cell_type": "code",
   "execution_count": 9,
   "id": "developed-manufacturer",
   "metadata": {},
   "outputs": [
    {
     "data": {
      "text/plain": [
       "region          31\n",
       "tenure          57\n",
       "age             17\n",
       "income          24\n",
       "marital         66\n",
       "address zone     0\n",
       "ed              23\n",
       "employ           0\n",
       "retire          34\n",
       "gender           0\n",
       "reside          31\n",
       "custcat          0\n",
       "dtype: int64"
      ]
     },
     "execution_count": 9,
     "metadata": {},
     "output_type": "execute_result"
    }
   ],
   "source": [
    "df1_telecom.isnull().sum()"
   ]
  },
  {
   "cell_type": "code",
   "execution_count": 10,
   "id": "thirty-finnish",
   "metadata": {},
   "outputs": [
    {
     "name": "stdout",
     "output_type": "stream",
     "text": [
      "<class 'pandas.core.frame.DataFrame'>\n",
      "RangeIndex: 1000 entries, 0 to 999\n",
      "Data columns (total 12 columns):\n",
      " #   Column        Non-Null Count  Dtype  \n",
      "---  ------        --------------  -----  \n",
      " 0   region        969 non-null    float64\n",
      " 1   tenure        943 non-null    float64\n",
      " 2   age           983 non-null    float64\n",
      " 3   income        976 non-null    float64\n",
      " 4   marital       934 non-null    object \n",
      " 5   address zone  1000 non-null   object \n",
      " 6   ed            977 non-null    float64\n",
      " 7   employ        1000 non-null   int64  \n",
      " 8   retire        966 non-null    object \n",
      " 9   gender        1000 non-null   object \n",
      " 10  reside        969 non-null    float64\n",
      " 11  custcat       1000 non-null   object \n",
      "dtypes: float64(6), int64(1), object(5)\n",
      "memory usage: 93.9+ KB\n"
     ]
    }
   ],
   "source": [
    "df1_telecom.info()"
   ]
  },
  {
   "cell_type": "markdown",
   "id": "civilian-behavior",
   "metadata": {},
   "source": [
    "The number of null values have now increased."
   ]
  },
  {
   "cell_type": "markdown",
   "id": "stretch-meeting",
   "metadata": {},
   "source": [
    "### Replacing null values in numerical columns with median"
   ]
  },
  {
   "cell_type": "markdown",
   "id": "adjacent-prague",
   "metadata": {},
   "source": [
    "We will now replace the np.nan values in the numerical columns with the median values of that column"
   ]
  },
  {
   "cell_type": "code",
   "execution_count": 11,
   "id": "integral-oakland",
   "metadata": {},
   "outputs": [],
   "source": [
    "def replace_num_nan(dataset):\n",
    "    cols = ['region','tenure','age','income','ed','reside']\n",
    "    for i in cols:\n",
    "        dataset[i] = dataset[i].fillna(dataset[i].median())\n",
    "    return dataset"
   ]
  },
  {
   "cell_type": "code",
   "execution_count": 12,
   "id": "latest-season",
   "metadata": {},
   "outputs": [],
   "source": [
    "df1_telecom = replace_num_nan(df1_telecom)"
   ]
  },
  {
   "cell_type": "code",
   "execution_count": 13,
   "id": "headed-medline",
   "metadata": {},
   "outputs": [
    {
     "name": "stdout",
     "output_type": "stream",
     "text": [
      "<class 'pandas.core.frame.DataFrame'>\n",
      "RangeIndex: 1000 entries, 0 to 999\n",
      "Data columns (total 12 columns):\n",
      " #   Column        Non-Null Count  Dtype  \n",
      "---  ------        --------------  -----  \n",
      " 0   region        1000 non-null   float64\n",
      " 1   tenure        1000 non-null   float64\n",
      " 2   age           1000 non-null   float64\n",
      " 3   income        1000 non-null   float64\n",
      " 4   marital       934 non-null    object \n",
      " 5   address zone  1000 non-null   object \n",
      " 6   ed            1000 non-null   float64\n",
      " 7   employ        1000 non-null   int64  \n",
      " 8   retire        966 non-null    object \n",
      " 9   gender        1000 non-null   object \n",
      " 10  reside        1000 non-null   float64\n",
      " 11  custcat       1000 non-null   object \n",
      "dtypes: float64(6), int64(1), object(5)\n",
      "memory usage: 93.9+ KB\n"
     ]
    }
   ],
   "source": [
    "df1_telecom.info()"
   ]
  },
  {
   "cell_type": "markdown",
   "id": "excellent-steps",
   "metadata": {},
   "source": [
    "Now we have replaced all the null values in the numerical features with their median value."
   ]
  },
  {
   "cell_type": "markdown",
   "id": "disturbed-establishment",
   "metadata": {},
   "source": [
    "### Replacing null values in categorical columns with mode"
   ]
  },
  {
   "cell_type": "code",
   "execution_count": 14,
   "id": "varied-finance",
   "metadata": {},
   "outputs": [],
   "source": [
    "def replace_cat_nan(dataset):\n",
    "        cols_cat = ['marital','retire']\n",
    "        for i in cols_cat:\n",
    "            dataset[i] = dataset[i].fillna(dataset[i].mode().unique().tolist()[0])\n",
    "        return dataset"
   ]
  },
  {
   "cell_type": "code",
   "execution_count": 15,
   "id": "assured-shakespeare",
   "metadata": {},
   "outputs": [],
   "source": [
    "df1_telecom = replace_cat_nan(df1_telecom)"
   ]
  },
  {
   "cell_type": "code",
   "execution_count": 16,
   "id": "reduced-brook",
   "metadata": {},
   "outputs": [
    {
     "name": "stdout",
     "output_type": "stream",
     "text": [
      "<class 'pandas.core.frame.DataFrame'>\n",
      "RangeIndex: 1000 entries, 0 to 999\n",
      "Data columns (total 12 columns):\n",
      " #   Column        Non-Null Count  Dtype  \n",
      "---  ------        --------------  -----  \n",
      " 0   region        1000 non-null   float64\n",
      " 1   tenure        1000 non-null   float64\n",
      " 2   age           1000 non-null   float64\n",
      " 3   income        1000 non-null   float64\n",
      " 4   marital       1000 non-null   object \n",
      " 5   address zone  1000 non-null   object \n",
      " 6   ed            1000 non-null   float64\n",
      " 7   employ        1000 non-null   int64  \n",
      " 8   retire        1000 non-null   object \n",
      " 9   gender        1000 non-null   object \n",
      " 10  reside        1000 non-null   float64\n",
      " 11  custcat       1000 non-null   object \n",
      "dtypes: float64(6), int64(1), object(5)\n",
      "memory usage: 93.9+ KB\n"
     ]
    }
   ],
   "source": [
    "df1_telecom.info()"
   ]
  },
  {
   "cell_type": "markdown",
   "id": "opened-challenge",
   "metadata": {},
   "source": [
    "Now we have replaced all the null values in the categorical features with their mode value."
   ]
  },
  {
   "cell_type": "markdown",
   "id": "universal-reception",
   "metadata": {},
   "source": [
    "## Exploratory Data Analysis"
   ]
  },
  {
   "cell_type": "markdown",
   "id": "lined-release",
   "metadata": {},
   "source": [
    "### 1. Heat Map"
   ]
  },
  {
   "cell_type": "code",
   "execution_count": 17,
   "id": "dried-veteran",
   "metadata": {},
   "outputs": [
    {
     "data": {
      "text/plain": [
       "<AxesSubplot:>"
      ]
     },
     "execution_count": 17,
     "metadata": {},
     "output_type": "execute_result"
    },
    {
     "data": {
      "image/png": "[encoded data removed]",
      "text/plain": [
       "<Figure size 1000x1000 with 2 Axes>"
      ]
     },
     "metadata": {
      "needs_background": "light"
     },
     "output_type": "display_data"
    }
   ],
   "source": [
    "#heatmap\n",
    "corrmat = plt.figure(figsize=(10,10),dpi=100)\n",
    "sns.heatmap(df1_telecom.corr(),cmap='YlGnBu',annot=True,center=0)"
   ]
  },
  {
   "cell_type": "markdown",
   "id": "strange-outdoors",
   "metadata": {},
   "source": [
    "### 2. Data Distribution"
   ]
  },
  {
   "cell_type": "markdown",
   "id": "lesbian-treatment",
   "metadata": {},
   "source": [
    "We will plot the distribution for all the numerical variables"
   ]
  },
  {
   "cell_type": "code",
   "execution_count": 18,
   "id": "important-eugene",
   "metadata": {},
   "outputs": [
    {
     "data": {
      "image/png": "[encoded data removed]",
      "text/plain": [
       "<Figure size 1008x720 with 9 Axes>"
      ]
     },
     "metadata": {},
     "output_type": "display_data"
    }
   ],
   "source": [
    "import matplotlib.pyplot as plt # plotting\n",
    "\n",
    "plt.style.use('seaborn-whitegrid')\n",
    "\n",
    "\n",
    "df1_telecom.hist(bins=20, figsize=(14,10), color='blue')\n",
    "plt.show()"
   ]
  },
  {
   "cell_type": "markdown",
   "id": "skilled-necessity",
   "metadata": {},
   "source": [
    "From above analysis, we see that there is skewness in column 'income', 'employ' and 'reside'."
   ]
  },
  {
   "cell_type": "code",
   "execution_count": 19,
   "id": "theoretical-involvement",
   "metadata": {},
   "outputs": [
    {
     "data": {
      "text/plain": [
       "<AxesSubplot:title={'center':'Custcat Counts'}>"
      ]
     },
     "execution_count": 19,
     "metadata": {},
     "output_type": "execute_result"
    },
    {
     "data": {
      "image/png": "[encoded data removed]",
      "text/plain": [
       "<Figure size 720x720 with 5 Axes>"
      ]
     },
     "metadata": {},
     "output_type": "display_data"
    }
   ],
   "source": [
    "# Set up a grid of plots\n",
    "fig = plt.figure(figsize=(10,10))\n",
    "fig_dims = (3, 2)\n",
    "\n",
    "# Plotting marital counts\n",
    "plt.subplot2grid(fig_dims, (0, 0))\n",
    "df1_telecom['marital'].value_counts().plot(kind='bar', \n",
    "                                         title='Marital Count')\n",
    "\n",
    "# Plot address zone counts\n",
    "plt.subplot2grid(fig_dims, (0, 1))\n",
    "df1_telecom['address zone'].value_counts().plot(kind='bar', \n",
    "                                       title='Address Zone Count')\n",
    "\n",
    "# Plot retire counts\n",
    "plt.subplot2grid(fig_dims, (1, 0))\n",
    "df1_telecom['retire'].value_counts().plot(kind='bar', \n",
    "                                    title='Retire Counts')\n",
    "plt.xticks(rotation=0)\n",
    "\n",
    "# Plot Gender counts\n",
    "plt.subplot2grid(fig_dims, (1, 1))\n",
    "df1_telecom['gender'].value_counts().plot(kind='bar', \n",
    "                                         title='Gender Counts')\n",
    "\n",
    "# Plot custcat counts\n",
    "plt.subplot2grid(fig_dims, (2, 0))\n",
    "df1_telecom['custcat'].value_counts().plot(kind='bar', \n",
    "                                         title='Custcat Counts')\n"
   ]
  },
  {
   "cell_type": "markdown",
   "id": "successful-missouri",
   "metadata": {},
   "source": [
    "From the above analysis we see that there is skewness in the data. For 'retire'column there are a lot of rows with 'No' and very less values with 'Yes'. "
   ]
  },
  {
   "cell_type": "code",
   "execution_count": 20,
   "id": "romantic-costs",
   "metadata": {
    "scrolled": false
   },
   "outputs": [
    {
     "name": "stderr",
     "output_type": "stream",
     "text": [
      "c:\\users\\aditi\\documents\\aditi\\utd\\5th semester courses (spring 2021)\\mis 6341 applied machine learning\\venv\\lib\\site-packages\\seaborn\\distributions.py:2557: FutureWarning: `distplot` is a deprecated function and will be removed in a future version. Please adapt your code to use either `displot` (a figure-level function with similar flexibility) or `histplot` (an axes-level function for histograms).\n",
      "  warnings.warn(msg, FutureWarning)\n"
     ]
    },
    {
     "data": {
      "image/png": "[encoded data removed]",
      "text/plain": [
       "<Figure size 432x288 with 1 Axes>"
      ]
     },
     "metadata": {},
     "output_type": "display_data"
    },
    {
     "name": "stderr",
     "output_type": "stream",
     "text": [
      "c:\\users\\aditi\\documents\\aditi\\utd\\5th semester courses (spring 2021)\\mis 6341 applied machine learning\\venv\\lib\\site-packages\\seaborn\\distributions.py:2557: FutureWarning: `distplot` is a deprecated function and will be removed in a future version. Please adapt your code to use either `displot` (a figure-level function with similar flexibility) or `histplot` (an axes-level function for histograms).\n",
      "  warnings.warn(msg, FutureWarning)\n"
     ]
    },
    {
     "data": {
      "image/png": "[encoded data removed]",
      "text/plain": [
       "<Figure size 432x288 with 1 Axes>"
      ]
     },
     "metadata": {},
     "output_type": "display_data"
    },
    {
     "name": "stderr",
     "output_type": "stream",
     "text": [
      "c:\\users\\aditi\\documents\\aditi\\utd\\5th semester courses (spring 2021)\\mis 6341 applied machine learning\\venv\\lib\\site-packages\\seaborn\\distributions.py:2557: FutureWarning: `distplot` is a deprecated function and will be removed in a future version. Please adapt your code to use either `displot` (a figure-level function with similar flexibility) or `histplot` (an axes-level function for histograms).\n",
      "  warnings.warn(msg, FutureWarning)\n"
     ]
    },
    {
     "data": {
      "image/png": "[encoded data removed]",
      "text/plain": [
       "<Figure size 432x288 with 1 Axes>"
      ]
     },
     "metadata": {},
     "output_type": "display_data"
    },
    {
     "name": "stderr",
     "output_type": "stream",
     "text": [
      "c:\\users\\aditi\\documents\\aditi\\utd\\5th semester courses (spring 2021)\\mis 6341 applied machine learning\\venv\\lib\\site-packages\\seaborn\\distributions.py:2557: FutureWarning: `distplot` is a deprecated function and will be removed in a future version. Please adapt your code to use either `displot` (a figure-level function with similar flexibility) or `histplot` (an axes-level function for histograms).\n",
      "  warnings.warn(msg, FutureWarning)\n"
     ]
    },
    {
     "data": {
      "image/png": "[encoded data removed]",
      "text/plain": [
       "<Figure size 432x288 with 1 Axes>"
      ]
     },
     "metadata": {},
     "output_type": "display_data"
    },
    {
     "name": "stderr",
     "output_type": "stream",
     "text": [
      "c:\\users\\aditi\\documents\\aditi\\utd\\5th semester courses (spring 2021)\\mis 6341 applied machine learning\\venv\\lib\\site-packages\\seaborn\\distributions.py:2557: FutureWarning: `distplot` is a deprecated function and will be removed in a future version. Please adapt your code to use either `displot` (a figure-level function with similar flexibility) or `histplot` (an axes-level function for histograms).\n",
      "  warnings.warn(msg, FutureWarning)\n"
     ]
    },
    {
     "data": {
      "image/png": "[encoded data removed]",
      "text/plain": [
       "<Figure size 432x288 with 1 Axes>"
      ]
     },
     "metadata": {},
     "output_type": "display_data"
    }
   ],
   "source": [
    "for col in ['tenure','age','income', 'employ', 'reside']:\n",
    "    fig = plt.figure(figsize = (6,4))\n",
    "    sns.distplot(df1_telecom[col], fit=norm, color='blue');\n",
    "    plt.xlabel(col)\n",
    "    plt.show()"
   ]
  },
  {
   "cell_type": "markdown",
   "id": "unnecessary-nirvana",
   "metadata": {},
   "source": [
    "We see that the overall data is skewed."
   ]
  },
  {
   "cell_type": "markdown",
   "id": "intimate-functionality",
   "metadata": {},
   "source": [
    "### Analyzing the target column"
   ]
  },
  {
   "cell_type": "code",
   "execution_count": 21,
   "id": "burning-perfume",
   "metadata": {},
   "outputs": [
    {
     "name": "stderr",
     "output_type": "stream",
     "text": [
      "c:\\users\\aditi\\documents\\aditi\\utd\\5th semester courses (spring 2021)\\mis 6341 applied machine learning\\venv\\lib\\site-packages\\seaborn\\_decorators.py:36: FutureWarning: Pass the following variable as a keyword arg: x. From version 0.12, the only valid positional argument will be `data`, and passing other arguments without an explicit keyword will result in an error or misinterpretation.\n",
      "  warnings.warn(\n"
     ]
    },
    {
     "data": {
      "text/plain": [
       "<AxesSubplot:xlabel='custcat', ylabel='count'>"
      ]
     },
     "execution_count": 21,
     "metadata": {},
     "output_type": "execute_result"
    },
    {
     "data": {
      "image/png": "[encoded data removed]",
      "text/plain": [
       "<Figure size 576x360 with 1 Axes>"
      ]
     },
     "metadata": {},
     "output_type": "display_data"
    }
   ],
   "source": [
    "data_dist_y = plt.figure(figsize=(8,5))\n",
    "sns.countplot(df1_telecom['custcat'], palette='Set2')"
   ]
  },
  {
   "cell_type": "markdown",
   "id": "olympic-component",
   "metadata": {},
   "source": [
    "We also see that the target column data is not imbalanced."
   ]
  },
  {
   "cell_type": "markdown",
   "id": "victorian-correction",
   "metadata": {},
   "source": [
    "## Encoding variables"
   ]
  },
  {
   "cell_type": "code",
   "execution_count": 22,
   "id": "comparative-kinase",
   "metadata": {},
   "outputs": [
    {
     "name": "stdout",
     "output_type": "stream",
     "text": [
      "<class 'pandas.core.frame.DataFrame'>\n",
      "RangeIndex: 1000 entries, 0 to 999\n",
      "Data columns (total 12 columns):\n",
      " #   Column        Non-Null Count  Dtype  \n",
      "---  ------        --------------  -----  \n",
      " 0   region        1000 non-null   float64\n",
      " 1   tenure        1000 non-null   float64\n",
      " 2   age           1000 non-null   float64\n",
      " 3   income        1000 non-null   float64\n",
      " 4   marital       1000 non-null   object \n",
      " 5   address zone  1000 non-null   object \n",
      " 6   ed            1000 non-null   float64\n",
      " 7   employ        1000 non-null   int64  \n",
      " 8   retire        1000 non-null   object \n",
      " 9   gender        1000 non-null   object \n",
      " 10  reside        1000 non-null   float64\n",
      " 11  custcat       1000 non-null   object \n",
      "dtypes: float64(6), int64(1), object(5)\n",
      "memory usage: 93.9+ KB\n"
     ]
    }
   ],
   "source": [
    "df1_telecom.info()"
   ]
  },
  {
   "cell_type": "markdown",
   "id": "qualified-inside",
   "metadata": {},
   "source": [
    "### 1. Column marital"
   ]
  },
  {
   "cell_type": "code",
   "execution_count": 23,
   "id": "ambient-controversy",
   "metadata": {},
   "outputs": [
    {
     "data": {
      "text/plain": [
       "array(['Married', 'Single'], dtype=object)"
      ]
     },
     "execution_count": 23,
     "metadata": {},
     "output_type": "execute_result"
    }
   ],
   "source": [
    "# checking unique values in column marital\n",
    "df1_telecom['marital'].unique()"
   ]
  },
  {
   "cell_type": "code",
   "execution_count": 24,
   "id": "advanced-sacrifice",
   "metadata": {},
   "outputs": [
    {
     "data": {
      "text/plain": [
       "Single     537\n",
       "Married    463\n",
       "Name: marital, dtype: int64"
      ]
     },
     "execution_count": 24,
     "metadata": {},
     "output_type": "execute_result"
    }
   ],
   "source": [
    "# checking the value count for column marital\n",
    "df1_telecom['marital'].value_counts()"
   ]
  },
  {
   "cell_type": "markdown",
   "id": "arabic-testing",
   "metadata": {},
   "source": [
    "Thus to encode this variable we can see that value Single has the maximum count so we can map Single with 1 and Married with 0."
   ]
  },
  {
   "cell_type": "code",
   "execution_count": 25,
   "id": "funny-institute",
   "metadata": {},
   "outputs": [],
   "source": [
    "df1_telecom['marital'] = df1_telecom['marital'].map({'Single':1, 'Married':0})"
   ]
  },
  {
   "cell_type": "code",
   "execution_count": 26,
   "id": "expanded-married",
   "metadata": {},
   "outputs": [
    {
     "data": {
      "text/plain": [
       "1    537\n",
       "0    463\n",
       "Name: marital, dtype: int64"
      ]
     },
     "execution_count": 26,
     "metadata": {},
     "output_type": "execute_result"
    }
   ],
   "source": [
    "# checking the value count for column marital\n",
    "df1_telecom['marital'].value_counts()"
   ]
  },
  {
   "cell_type": "markdown",
   "id": "british-benchmark",
   "metadata": {},
   "source": [
    "### 2. Column address zone"
   ]
  },
  {
   "cell_type": "code",
   "execution_count": 27,
   "id": "diverse-scholarship",
   "metadata": {},
   "outputs": [
    {
     "data": {
      "text/plain": [
       "array(['Zone 9', 'Zone 7', 'Zone 24', 'Zone 12', 'Zone 17', 'Zone 2',\n",
       "       'Zone 5', 'Zone 21', 'Zone 10', 'Zone 14', 'Zone 8', 'Zone 30',\n",
       "       'Zone 3', 'Zone 38', 'Zone 19', 'Zone 18', 'Zone 0', 'Zone 11',\n",
       "       'Zone 1', 'Zone 6', 'Zone 27', 'Zone 26', 'Zone 13', 'Zone 34',\n",
       "       'Zone 4', 'Zone 20', 'Zone 28', 'Zone 36', 'Zone 16', 'Zone 15',\n",
       "       'Zone 22', 'Zone 44', 'Zone 29', 'Zone 23', 'Zone 31', 'Zone 25',\n",
       "       'Zone 49', 'Zone 41', 'Zone 39', 'Zone 43', 'Zone 33', 'Zone 32',\n",
       "       'Zone 35', 'Zone 40', 'Zone 37', 'Zone 45', 'Zone 48', 'Zone 42',\n",
       "       'Zone 46', 'Zone 55'], dtype=object)"
      ]
     },
     "execution_count": 27,
     "metadata": {},
     "output_type": "execute_result"
    }
   ],
   "source": [
    "# checking unique values in column address zone\n",
    "df1_telecom['address zone'].unique()"
   ]
  },
  {
   "cell_type": "code",
   "execution_count": 28,
   "id": "pleasant-science",
   "metadata": {},
   "outputs": [
    {
     "data": {
      "text/plain": [
       "Zone 1     68\n",
       "Zone 2     66\n",
       "Zone 3     61\n",
       "Zone 4     61\n",
       "Zone 0     56\n",
       "Zone 7     53\n",
       "Zone 5     50\n",
       "Zone 9     41\n",
       "Zone 8     39\n",
       "Zone 10    38\n",
       "Zone 12    36\n",
       "Zone 6     36\n",
       "Zone 13    33\n",
       "Zone 19    29\n",
       "Zone 14    24\n",
       "Zone 15    24\n",
       "Zone 11    23\n",
       "Zone 17    22\n",
       "Zone 21    20\n",
       "Zone 18    20\n",
       "Zone 20    20\n",
       "Zone 27    16\n",
       "Zone 23    15\n",
       "Zone 22    15\n",
       "Zone 16    14\n",
       "Zone 26    12\n",
       "Zone 25    12\n",
       "Zone 24    12\n",
       "Zone 28    12\n",
       "Zone 30    11\n",
       "Zone 29     8\n",
       "Zone 34     6\n",
       "Zone 31     6\n",
       "Zone 32     5\n",
       "Zone 38     5\n",
       "Zone 33     5\n",
       "Zone 40     3\n",
       "Zone 37     3\n",
       "Zone 39     3\n",
       "Zone 44     3\n",
       "Zone 43     3\n",
       "Zone 36     2\n",
       "Zone 35     2\n",
       "Zone 42     1\n",
       "Zone 55     1\n",
       "Zone 46     1\n",
       "Zone 41     1\n",
       "Zone 45     1\n",
       "Zone 49     1\n",
       "Zone 48     1\n",
       "Name: address zone, dtype: int64"
      ]
     },
     "execution_count": 28,
     "metadata": {},
     "output_type": "execute_result"
    }
   ],
   "source": [
    "# checking the value count for column address zone\n",
    "df1_telecom['address zone'].value_counts()"
   ]
  },
  {
   "cell_type": "markdown",
   "id": "welsh-bermuda",
   "metadata": {},
   "source": [
    "We cannot map these values as these are not ordinal. Therefore we will do one hot encoding for column address zone"
   ]
  },
  {
   "cell_type": "code",
   "execution_count": 29,
   "id": "detected-radiation",
   "metadata": {},
   "outputs": [
    {
     "data": {
      "text/html": [
       "<div>\n",
       "<style scoped>\n",
       "    .dataframe tbody tr th:only-of-type {\n",
       "        vertical-align: middle;\n",
       "    }\n",
       "\n",
       "    .dataframe tbody tr th {\n",
       "        vertical-align: top;\n",
       "    }\n",
       "\n",
       "    .dataframe thead th {\n",
       "        text-align: right;\n",
       "    }\n",
       "</style>\n",
       "<table border=\"1\" class=\"dataframe\">\n",
       "  <thead>\n",
       "    <tr style=\"text-align: right;\">\n",
       "      <th></th>\n",
       "      <th>region</th>\n",
       "      <th>tenure</th>\n",
       "      <th>age</th>\n",
       "      <th>income</th>\n",
       "      <th>marital</th>\n",
       "      <th>ed</th>\n",
       "      <th>employ</th>\n",
       "      <th>retire</th>\n",
       "      <th>gender</th>\n",
       "      <th>reside</th>\n",
       "      <th>...</th>\n",
       "      <th>AddZone__Zone 45</th>\n",
       "      <th>AddZone__Zone 46</th>\n",
       "      <th>AddZone__Zone 48</th>\n",
       "      <th>AddZone__Zone 49</th>\n",
       "      <th>AddZone__Zone 5</th>\n",
       "      <th>AddZone__Zone 55</th>\n",
       "      <th>AddZone__Zone 6</th>\n",
       "      <th>AddZone__Zone 7</th>\n",
       "      <th>AddZone__Zone 8</th>\n",
       "      <th>AddZone__Zone 9</th>\n",
       "    </tr>\n",
       "  </thead>\n",
       "  <tbody>\n",
       "    <tr>\n",
       "      <th>0</th>\n",
       "      <td>2.0</td>\n",
       "      <td>13.0</td>\n",
       "      <td>44.0</td>\n",
       "      <td>64.0</td>\n",
       "      <td>0</td>\n",
       "      <td>4.0</td>\n",
       "      <td>5</td>\n",
       "      <td>No</td>\n",
       "      <td>Male</td>\n",
       "      <td>2.0</td>\n",
       "      <td>...</td>\n",
       "      <td>0</td>\n",
       "      <td>0</td>\n",
       "      <td>0</td>\n",
       "      <td>0</td>\n",
       "      <td>0</td>\n",
       "      <td>0</td>\n",
       "      <td>0</td>\n",
       "      <td>0</td>\n",
       "      <td>0</td>\n",
       "      <td>1</td>\n",
       "    </tr>\n",
       "    <tr>\n",
       "      <th>1</th>\n",
       "      <td>3.0</td>\n",
       "      <td>11.0</td>\n",
       "      <td>33.0</td>\n",
       "      <td>136.0</td>\n",
       "      <td>0</td>\n",
       "      <td>5.0</td>\n",
       "      <td>5</td>\n",
       "      <td>No</td>\n",
       "      <td>Male</td>\n",
       "      <td>6.0</td>\n",
       "      <td>...</td>\n",
       "      <td>0</td>\n",
       "      <td>0</td>\n",
       "      <td>0</td>\n",
       "      <td>0</td>\n",
       "      <td>0</td>\n",
       "      <td>0</td>\n",
       "      <td>0</td>\n",
       "      <td>1</td>\n",
       "      <td>0</td>\n",
       "      <td>0</td>\n",
       "    </tr>\n",
       "    <tr>\n",
       "      <th>2</th>\n",
       "      <td>3.0</td>\n",
       "      <td>68.0</td>\n",
       "      <td>52.0</td>\n",
       "      <td>116.0</td>\n",
       "      <td>0</td>\n",
       "      <td>1.0</td>\n",
       "      <td>29</td>\n",
       "      <td>No</td>\n",
       "      <td>Female</td>\n",
       "      <td>2.0</td>\n",
       "      <td>...</td>\n",
       "      <td>0</td>\n",
       "      <td>0</td>\n",
       "      <td>0</td>\n",
       "      <td>0</td>\n",
       "      <td>0</td>\n",
       "      <td>0</td>\n",
       "      <td>0</td>\n",
       "      <td>0</td>\n",
       "      <td>0</td>\n",
       "      <td>0</td>\n",
       "    </tr>\n",
       "    <tr>\n",
       "      <th>3</th>\n",
       "      <td>2.0</td>\n",
       "      <td>33.0</td>\n",
       "      <td>33.0</td>\n",
       "      <td>33.0</td>\n",
       "      <td>1</td>\n",
       "      <td>2.0</td>\n",
       "      <td>0</td>\n",
       "      <td>No</td>\n",
       "      <td>Female</td>\n",
       "      <td>1.0</td>\n",
       "      <td>...</td>\n",
       "      <td>0</td>\n",
       "      <td>0</td>\n",
       "      <td>0</td>\n",
       "      <td>0</td>\n",
       "      <td>0</td>\n",
       "      <td>0</td>\n",
       "      <td>0</td>\n",
       "      <td>0</td>\n",
       "      <td>0</td>\n",
       "      <td>0</td>\n",
       "    </tr>\n",
       "    <tr>\n",
       "      <th>4</th>\n",
       "      <td>2.0</td>\n",
       "      <td>23.0</td>\n",
       "      <td>30.0</td>\n",
       "      <td>30.0</td>\n",
       "      <td>0</td>\n",
       "      <td>1.0</td>\n",
       "      <td>2</td>\n",
       "      <td>No</td>\n",
       "      <td>Male</td>\n",
       "      <td>4.0</td>\n",
       "      <td>...</td>\n",
       "      <td>0</td>\n",
       "      <td>0</td>\n",
       "      <td>0</td>\n",
       "      <td>0</td>\n",
       "      <td>0</td>\n",
       "      <td>0</td>\n",
       "      <td>0</td>\n",
       "      <td>0</td>\n",
       "      <td>0</td>\n",
       "      <td>1</td>\n",
       "    </tr>\n",
       "  </tbody>\n",
       "</table>\n",
       "<p>5 rows × 61 columns</p>\n",
       "</div>"
      ],
      "text/plain": [
       "   region  tenure   age  income  marital   ed  employ retire  gender  reside  \\\n",
       "0     2.0    13.0  44.0    64.0        0  4.0       5     No    Male     2.0   \n",
       "1     3.0    11.0  33.0   136.0        0  5.0       5     No    Male     6.0   \n",
       "2     3.0    68.0  52.0   116.0        0  1.0      29     No  Female     2.0   \n",
       "3     2.0    33.0  33.0    33.0        1  2.0       0     No  Female     1.0   \n",
       "4     2.0    23.0  30.0    30.0        0  1.0       2     No    Male     4.0   \n",
       "\n",
       "   ... AddZone__Zone 45  AddZone__Zone 46  AddZone__Zone 48  AddZone__Zone 49  \\\n",
       "0  ...                0                 0                 0                 0   \n",
       "1  ...                0                 0                 0                 0   \n",
       "2  ...                0                 0                 0                 0   \n",
       "3  ...                0                 0                 0                 0   \n",
       "4  ...                0                 0                 0                 0   \n",
       "\n",
       "   AddZone__Zone 5  AddZone__Zone 55  AddZone__Zone 6  AddZone__Zone 7  \\\n",
       "0                0                 0                0                0   \n",
       "1                0                 0                0                1   \n",
       "2                0                 0                0                0   \n",
       "3                0                 0                0                0   \n",
       "4                0                 0                0                0   \n",
       "\n",
       "   AddZone__Zone 8  AddZone__Zone 9  \n",
       "0                0                1  \n",
       "1                0                0  \n",
       "2                0                0  \n",
       "3                0                0  \n",
       "4                0                1  \n",
       "\n",
       "[5 rows x 61 columns]"
      ]
     },
     "execution_count": 29,
     "metadata": {},
     "output_type": "execute_result"
    }
   ],
   "source": [
    "# Applying one hot encoding\n",
    "cols = pd.get_dummies(df1_telecom['address zone'], prefix = 'AddZone_')\n",
    "df1_telecom[cols.columns] = cols\n",
    "\n",
    "# dropping column address zone\n",
    "df1_telecom.drop('address zone', axis = 1, inplace=True)\n",
    "df1_telecom.head()"
   ]
  },
  {
   "cell_type": "markdown",
   "id": "victorian-spending",
   "metadata": {},
   "source": [
    "### 3. Column retire"
   ]
  },
  {
   "cell_type": "code",
   "execution_count": 30,
   "id": "czech-teens",
   "metadata": {},
   "outputs": [
    {
     "data": {
      "text/plain": [
       "array(['No', 'Yes'], dtype=object)"
      ]
     },
     "execution_count": 30,
     "metadata": {},
     "output_type": "execute_result"
    }
   ],
   "source": [
    "# checking unique values in column retire\n",
    "df1_telecom['retire'].unique()"
   ]
  },
  {
   "cell_type": "code",
   "execution_count": 31,
   "id": "honey-charge",
   "metadata": {},
   "outputs": [
    {
     "data": {
      "text/plain": [
       "No     957\n",
       "Yes     43\n",
       "Name: retire, dtype: int64"
      ]
     },
     "execution_count": 31,
     "metadata": {},
     "output_type": "execute_result"
    }
   ],
   "source": [
    "# checking the value count for column retire\n",
    "df1_telecom['retire'].value_counts()"
   ]
  },
  {
   "cell_type": "markdown",
   "id": "owned-mileage",
   "metadata": {},
   "source": [
    "Thus to encode this variable we can see that value No has the maximum count so we can map No with 1 and Yes with 0."
   ]
  },
  {
   "cell_type": "code",
   "execution_count": 32,
   "id": "considered-columbus",
   "metadata": {},
   "outputs": [],
   "source": [
    "df1_telecom['retire'] = df1_telecom['retire'].map({'No':1, 'Yes':0})"
   ]
  },
  {
   "cell_type": "code",
   "execution_count": 33,
   "id": "portuguese-extra",
   "metadata": {},
   "outputs": [
    {
     "data": {
      "text/plain": [
       "1    957\n",
       "0     43\n",
       "Name: retire, dtype: int64"
      ]
     },
     "execution_count": 33,
     "metadata": {},
     "output_type": "execute_result"
    }
   ],
   "source": [
    "# checking the value count for column retire\n",
    "df1_telecom['retire'].value_counts()"
   ]
  },
  {
   "cell_type": "markdown",
   "id": "incorporated-magnitude",
   "metadata": {},
   "source": [
    "### 4. Column Gender"
   ]
  },
  {
   "cell_type": "code",
   "execution_count": 34,
   "id": "individual-pearl",
   "metadata": {},
   "outputs": [
    {
     "data": {
      "text/plain": [
       "array(['Male', 'Female'], dtype=object)"
      ]
     },
     "execution_count": 34,
     "metadata": {},
     "output_type": "execute_result"
    }
   ],
   "source": [
    "# checking unique values in column gender\n",
    "df1_telecom['gender'].unique()"
   ]
  },
  {
   "cell_type": "code",
   "execution_count": 35,
   "id": "registered-consent",
   "metadata": {},
   "outputs": [
    {
     "data": {
      "text/plain": [
       "Female    517\n",
       "Male      483\n",
       "Name: gender, dtype: int64"
      ]
     },
     "execution_count": 35,
     "metadata": {},
     "output_type": "execute_result"
    }
   ],
   "source": [
    "# checking the value count for column gender\n",
    "df1_telecom['gender'].value_counts()"
   ]
  },
  {
   "cell_type": "markdown",
   "id": "difficult-encyclopedia",
   "metadata": {},
   "source": [
    "Thus to encode this variable we can see that value Female has the maximum count so we can map Female with 1 and Male with 0."
   ]
  },
  {
   "cell_type": "code",
   "execution_count": 36,
   "id": "essential-helmet",
   "metadata": {},
   "outputs": [],
   "source": [
    "df1_telecom['gender'] = df1_telecom['gender'].map({'Female':1, 'Male':0})"
   ]
  },
  {
   "cell_type": "code",
   "execution_count": 37,
   "id": "composite-stress",
   "metadata": {},
   "outputs": [
    {
     "data": {
      "text/plain": [
       "1    517\n",
       "0    483\n",
       "Name: gender, dtype: int64"
      ]
     },
     "execution_count": 37,
     "metadata": {},
     "output_type": "execute_result"
    }
   ],
   "source": [
    "# checking the value count for column gender\n",
    "df1_telecom['gender'].value_counts()"
   ]
  },
  {
   "cell_type": "markdown",
   "id": "inner-lighting",
   "metadata": {},
   "source": [
    "### 5 . Column custcat"
   ]
  },
  {
   "cell_type": "code",
   "execution_count": 38,
   "id": "hybrid-angola",
   "metadata": {},
   "outputs": [
    {
     "data": {
      "text/plain": [
       "array(['A', 'D', 'C', 'B'], dtype=object)"
      ]
     },
     "execution_count": 38,
     "metadata": {},
     "output_type": "execute_result"
    }
   ],
   "source": [
    "# checking unique values in cloumn custcat\n",
    "df1_telecom['custcat'].unique()"
   ]
  },
  {
   "cell_type": "code",
   "execution_count": 39,
   "id": "critical-polymer",
   "metadata": {},
   "outputs": [
    {
     "data": {
      "text/plain": [
       "array(['A', 'B', 'C', 'D'], dtype=object)"
      ]
     },
     "execution_count": 39,
     "metadata": {},
     "output_type": "execute_result"
    }
   ],
   "source": [
    "df_custcat = df1_telecom['custcat'].sort_values().unique()\n",
    "df_custcat"
   ]
  },
  {
   "cell_type": "code",
   "execution_count": 40,
   "id": "romance-healing",
   "metadata": {},
   "outputs": [
    {
     "name": "stdout",
     "output_type": "stream",
     "text": [
      "A\n",
      "B\n",
      "C\n",
      "D\n"
     ]
    }
   ],
   "source": [
    "# creating a mapper dictionary\n",
    "unique_custcat_values = df_custcat.tolist()\n",
    "mapper_dict = {}\n",
    "count = 0\n",
    "for unique_value in unique_custcat_values:\n",
    "    count = count + 1 \n",
    "    mapper_dict.update({f'{unique_value}': count})"
   ]
  },
  {
   "cell_type": "code",
   "execution_count": 41,
   "id": "regular-endorsement",
   "metadata": {},
   "outputs": [],
   "source": [
    "df1_telecom.replace({'custcat':mapper_dict}, inplace=True)"
   ]
  },
  {
   "cell_type": "code",
   "execution_count": 42,
   "id": "valid-genre",
   "metadata": {},
   "outputs": [
    {
     "data": {
      "text/plain": [
       "array([1, 2, 3, 4], dtype=int64)"
      ]
     },
     "execution_count": 42,
     "metadata": {},
     "output_type": "execute_result"
    }
   ],
   "source": [
    "df1_telecom['custcat'].sort_values().unique()"
   ]
  },
  {
   "cell_type": "code",
   "execution_count": 43,
   "id": "outside-consultancy",
   "metadata": {},
   "outputs": [
    {
     "data": {
      "text/plain": [
       "array([1, 4, 3, 2], dtype=int64)"
      ]
     },
     "execution_count": 43,
     "metadata": {},
     "output_type": "execute_result"
    }
   ],
   "source": [
    "# checking the unique values in column custcat\n",
    "df1_telecom['custcat'].unique()"
   ]
  },
  {
   "cell_type": "code",
   "execution_count": 44,
   "id": "australian-focus",
   "metadata": {},
   "outputs": [
    {
     "name": "stdout",
     "output_type": "stream",
     "text": [
      "<class 'pandas.core.frame.DataFrame'>\n",
      "RangeIndex: 1000 entries, 0 to 999\n",
      "Data columns (total 61 columns):\n",
      " #   Column            Non-Null Count  Dtype  \n",
      "---  ------            --------------  -----  \n",
      " 0   region            1000 non-null   float64\n",
      " 1   tenure            1000 non-null   float64\n",
      " 2   age               1000 non-null   float64\n",
      " 3   income            1000 non-null   float64\n",
      " 4   marital           1000 non-null   int64  \n",
      " 5   ed                1000 non-null   float64\n",
      " 6   employ            1000 non-null   int64  \n",
      " 7   retire            1000 non-null   int64  \n",
      " 8   gender            1000 non-null   int64  \n",
      " 9   reside            1000 non-null   float64\n",
      " 10  custcat           1000 non-null   int64  \n",
      " 11  AddZone__Zone 0   1000 non-null   uint8  \n",
      " 12  AddZone__Zone 1   1000 non-null   uint8  \n",
      " 13  AddZone__Zone 10  1000 non-null   uint8  \n",
      " 14  AddZone__Zone 11  1000 non-null   uint8  \n",
      " 15  AddZone__Zone 12  1000 non-null   uint8  \n",
      " 16  AddZone__Zone 13  1000 non-null   uint8  \n",
      " 17  AddZone__Zone 14  1000 non-null   uint8  \n",
      " 18  AddZone__Zone 15  1000 non-null   uint8  \n",
      " 19  AddZone__Zone 16  1000 non-null   uint8  \n",
      " 20  AddZone__Zone 17  1000 non-null   uint8  \n",
      " 21  AddZone__Zone 18  1000 non-null   uint8  \n",
      " 22  AddZone__Zone 19  1000 non-null   uint8  \n",
      " 23  AddZone__Zone 2   1000 non-null   uint8  \n",
      " 24  AddZone__Zone 20  1000 non-null   uint8  \n",
      " 25  AddZone__Zone 21  1000 non-null   uint8  \n",
      " 26  AddZone__Zone 22  1000 non-null   uint8  \n",
      " 27  AddZone__Zone 23  1000 non-null   uint8  \n",
      " 28  AddZone__Zone 24  1000 non-null   uint8  \n",
      " 29  AddZone__Zone 25  1000 non-null   uint8  \n",
      " 30  AddZone__Zone 26  1000 non-null   uint8  \n",
      " 31  AddZone__Zone 27  1000 non-null   uint8  \n",
      " 32  AddZone__Zone 28  1000 non-null   uint8  \n",
      " 33  AddZone__Zone 29  1000 non-null   uint8  \n",
      " 34  AddZone__Zone 3   1000 non-null   uint8  \n",
      " 35  AddZone__Zone 30  1000 non-null   uint8  \n",
      " 36  AddZone__Zone 31  1000 non-null   uint8  \n",
      " 37  AddZone__Zone 32  1000 non-null   uint8  \n",
      " 38  AddZone__Zone 33  1000 non-null   uint8  \n",
      " 39  AddZone__Zone 34  1000 non-null   uint8  \n",
      " 40  AddZone__Zone 35  1000 non-null   uint8  \n",
      " 41  AddZone__Zone 36  1000 non-null   uint8  \n",
      " 42  AddZone__Zone 37  1000 non-null   uint8  \n",
      " 43  AddZone__Zone 38  1000 non-null   uint8  \n",
      " 44  AddZone__Zone 39  1000 non-null   uint8  \n",
      " 45  AddZone__Zone 4   1000 non-null   uint8  \n",
      " 46  AddZone__Zone 40  1000 non-null   uint8  \n",
      " 47  AddZone__Zone 41  1000 non-null   uint8  \n",
      " 48  AddZone__Zone 42  1000 non-null   uint8  \n",
      " 49  AddZone__Zone 43  1000 non-null   uint8  \n",
      " 50  AddZone__Zone 44  1000 non-null   uint8  \n",
      " 51  AddZone__Zone 45  1000 non-null   uint8  \n",
      " 52  AddZone__Zone 46  1000 non-null   uint8  \n",
      " 53  AddZone__Zone 48  1000 non-null   uint8  \n",
      " 54  AddZone__Zone 49  1000 non-null   uint8  \n",
      " 55  AddZone__Zone 5   1000 non-null   uint8  \n",
      " 56  AddZone__Zone 55  1000 non-null   uint8  \n",
      " 57  AddZone__Zone 6   1000 non-null   uint8  \n",
      " 58  AddZone__Zone 7   1000 non-null   uint8  \n",
      " 59  AddZone__Zone 8   1000 non-null   uint8  \n",
      " 60  AddZone__Zone 9   1000 non-null   uint8  \n",
      "dtypes: float64(6), int64(5), uint8(50)\n",
      "memory usage: 134.9 KB\n"
     ]
    }
   ],
   "source": [
    "df1_telecom.info()"
   ]
  },
  {
   "cell_type": "markdown",
   "id": "recognized-publisher",
   "metadata": {},
   "source": [
    "Now we see that we have encoded all the columns in the dataset."
   ]
  },
  {
   "cell_type": "code",
   "execution_count": null,
   "id": "warming-seating",
   "metadata": {},
   "outputs": [],
   "source": []
  }
 ],
 "metadata": {
  "kernelspec": {
   "display_name": "Python 3",
   "language": "python",
   "name": "python3"
  },
  "language_info": {
   "codemirror_mode": {
    "name": "ipython",
    "version": 3
   },
   "file_extension": ".py",
   "mimetype": "text/x-python",
   "name": "python",
   "nbconvert_exporter": "python",
   "pygments_lexer": "ipython3",
   "version": "3.8.7"
  }
 },
 "nbformat": 4,
 "nbformat_minor": 5
}
